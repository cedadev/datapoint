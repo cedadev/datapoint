{
 "cells": [
  {
   "cell_type": "markdown",
   "id": "434578df-b79b-45a2-8a0c-bfcd05718d60",
   "metadata": {},
   "source": [
    "## Pystac STAC searches\n",
    "Here we demonstrate the current method for searching the CEDA CCI STAC Catalog and accessing data files. This may change in the future as the catalog is restructured, at which point this document will be updated."
   ]
  },
  {
   "cell_type": "code",
   "execution_count": 28,
   "id": "4e6ac205-9bc4-4e82-a65a-1d3ae65b6335",
   "metadata": {},
   "outputs": [],
   "source": [
    "import pystac_client"
   ]
  },
  {
   "cell_type": "code",
   "execution_count": 29,
   "id": "6b52db70-a54a-4df0-9c93-5fc4ef572518",
   "metadata": {},
   "outputs": [],
   "source": [
    "client = pystac_client.Client.open('https://api.stac.ceda.ac.uk')"
   ]
  },
  {
   "cell_type": "markdown",
   "id": "f1b8814b-2429-47d2-903a-e6ae8acd1594",
   "metadata": {},
   "source": [
    "Using pystac, we can query the CCI collection, looking specifically at records with the `GOES16` platform ID. Other search parameters will be available in the future."
   ]
  },
  {
   "cell_type": "code",
   "execution_count": 49,
   "id": "34260462-6e87-4972-8c4f-8c499bd406cf",
   "metadata": {},
   "outputs": [],
   "source": [
    "item_search = client.search(\n",
    "    collections=['cci'],\n",
    "    query=[\n",
    "        'platform_id=GOES16',\n",
    "    ],\n",
    "    max_items=8)"
   ]
  },
  {
   "cell_type": "markdown",
   "id": "9b243b0e-6d1e-419f-a994-0c57ff0cb94a",
   "metadata": {},
   "source": [
    "We can then obtain a list of the datasets matching the search query"
   ]
  },
  {
   "cell_type": "code",
   "execution_count": 50,
   "id": "527b61f2-2075-4c70-8d59-012d50bbb0ab",
   "metadata": {},
   "outputs": [
    {
     "name": "stdout",
     "output_type": "stream",
     "text": [
      "ESACCI-LST-L3C-LST-GOES-0.05deg_1MONTHLY-20180101230000-20201201230000-fv1.00\n",
      "ESACCI-LST-L3C-LST-GOES-0.05deg-20180104230000-20201231230000-fv1.00\n",
      "ESACCI-LST-L3C-LST-GOES-0.05deg_1MONTHLY-20180101220000-20201201220000-fv1.00\n",
      "ESACCI-LST-L3C-LST-GOES-0.05deg-20180104220000-20201231220000-fv1.00\n",
      "ESACCI-LST-L3C-LST-GOES-0.05deg-20180104114000-20201231140000-fv1.00\n",
      "ESACCI-LST-L3C-LST-GOES-0.05deg_1MONTHLY-20180101130000-20201201130000-fv1.00\n",
      "ESACCI-LST-L3C-LST-GOES-0.05deg-20180104130000-20201231130000-fv1.00\n",
      "ESACCI-LST-L3C-LST-GOES-0.05deg_1MONTHLY-20180101114000-20201201140000-fv1.00\n"
     ]
    }
   ],
   "source": [
    "for it in item_search.items():\n",
    "    print(it.id)"
   ]
  },
  {
   "cell_type": "markdown",
   "id": "6b3c0ac6-c657-4e29-8766-f098ea8d90c4",
   "metadata": {},
   "source": [
    "For any particular item we can extract the href to a specific asset. "
   ]
  },
  {
   "cell_type": "code",
   "execution_count": 51,
   "id": "fb9f87f6-3bfb-43d0-ad11-afb0f7fb2fc4",
   "metadata": {},
   "outputs": [
    {
     "data": {
      "text/plain": [
       "{'reference_file': <Asset href=https://dap.ceda.ac.uk/neodc/esacci/land_surface_temperature/metadata/kerchunk/GOES_IMAGER_ABI/L3C/v1.00/ESACCI-LST-L3C-LST-GOES-0.05deg-20180103110000-20201231110000-fv1.00_kr1.0.json>,\n",
       " 'data0001': <Asset href=https://dap.ceda.ac.uk/neodc/esacci/land_surface_temperature/data/GOES_IMAGER_ABI/L3C/v1.00/monthly/2018/01/ESACCI-LST-L3C-LST-GOES16-0.05deg_1MONTHLY-20180101110000-fv1.01.nc>}"
      ]
     },
     "execution_count": 51,
     "metadata": {},
     "output_type": "execute_result"
    }
   ],
   "source": [
    "it.assets"
   ]
  },
  {
   "cell_type": "markdown",
   "id": "077e4af8-e8af-44a6-8db2-1c0c7984bbce",
   "metadata": {},
   "source": [
    "For this particular item, we have one kerchunk file asset, and one of the individual netcdf files as `data0001` asset. This does not show the full capability for this or any other item yet, as there should be more than one netcdf file for this item, and indeed other items in this search.\n",
    "\n",
    "For now, we can extract the href for the netcdf file that is present."
   ]
  },
  {
   "cell_type": "code",
   "execution_count": 52,
   "id": "21d7eda1-000c-4a12-9cb2-c3b49c374d5b",
   "metadata": {},
   "outputs": [
    {
     "data": {
      "text/plain": [
       "'https://dap.ceda.ac.uk/neodc/esacci/land_surface_temperature/data/GOES_IMAGER_ABI/L3C/v1.00/monthly/2018/01/ESACCI-LST-L3C-LST-GOES16-0.05deg_1MONTHLY-20180101110000-fv1.01.nc'"
      ]
     },
     "execution_count": 52,
     "metadata": {},
     "output_type": "execute_result"
    }
   ],
   "source": [
    "it.assets['data0001'].href"
   ]
  },
  {
   "cell_type": "markdown",
   "id": "c14f3749-27a6-444f-be15-0aab51ecea76",
   "metadata": {},
   "source": [
    "We can then proceed to download this asset file in the same way as before, using the requests library"
   ]
  },
  {
   "cell_type": "code",
   "execution_count": 54,
   "id": "60971815-48ff-433d-b8c0-ac218c360120",
   "metadata": {},
   "outputs": [],
   "source": [
    "r = requests.get(it.assets['data0001'].href)\n",
    "with open('ESACCI-LST-L3C-LST-GOES16-0.05deg_1MONTHLY-20180101110000-fv1.01.nc','wb') as f:\n",
    "    f.write(r.content)"
   ]
  }
 ],
 "metadata": {
  "kernelspec": {
   "display_name": "datapoint_k",
   "language": "python",
   "name": "datapoint_k"
  },
  "language_info": {
   "codemirror_mode": {
    "name": "ipython",
    "version": 3
   },
   "file_extension": ".py",
   "mimetype": "text/x-python",
   "name": "python",
   "nbconvert_exporter": "python",
   "pygments_lexer": "ipython3",
   "version": "3.12.2"
  }
 },
 "nbformat": 4,
 "nbformat_minor": 5
}
