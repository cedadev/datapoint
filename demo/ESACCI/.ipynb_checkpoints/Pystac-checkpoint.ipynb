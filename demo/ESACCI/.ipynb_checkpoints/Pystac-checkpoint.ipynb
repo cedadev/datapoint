{
 "cells": [
  {
   "cell_type": "markdown",
   "id": "434578df-b79b-45a2-8a0c-bfcd05718d60",
   "metadata": {},
   "source": [
    "## Pystac STAC searches\n",
    "Here we demonstrate the current method for searching the CEDA CCI STAC Catalog and accessing data files. This may change in the future as the catalog is restructured, at which point this document will be updated."
   ]
  },
  {
   "cell_type": "code",
   "execution_count": 28,
   "id": "4e6ac205-9bc4-4e82-a65a-1d3ae65b6335",
   "metadata": {},
   "outputs": [],
   "source": [
    "import pystac_client"
   ]
  },
  {
   "cell_type": "code",
   "execution_count": 29,
   "id": "6b52db70-a54a-4df0-9c93-5fc4ef572518",
   "metadata": {},
   "outputs": [],
   "source": [
    "client = pystac_client.Client.open('https://api.stac.ceda.ac.uk')"
   ]
  },
  {
   "cell_type": "markdown",
   "id": "f1b8814b-2429-47d2-903a-e6ae8acd1594",
   "metadata": {},
   "source": [
    "Using pystac, we can query the CCI collection, looking specifically at records with the `GOES16` platform ID. Other search parameters will be available in the future."
   ]
  },
  {
   "cell_type": "code",
   "execution_count": 43,
   "id": "34260462-6e87-4972-8c4f-8c499bd406cf",
   "metadata": {},
   "outputs": [],
   "source": [
    "item_search = client.search(\n",
    "    collections=['cci'],\n",
    "    query=[\n",
    "        'platform_id=GOES16',\n",
    "        #'id=ESACCI-LST-L3C-LST-GOES-0.05deg_1MONTHLY-20180101114000-20201201140000-fv1.00'\n",
    "    ],\n",
    "    id='ESACCI-LST-L3C-LST-GOES-0.05deg_1MONTHLY-20180101114000-20201201140000-fv1.00'\n",
    "    max_items=200)"
   ]
  },
  {
   "cell_type": "markdown",
   "id": "9b243b0e-6d1e-419f-a994-0c57ff0cb94a",
   "metadata": {},
   "source": [
    "We can then obtain a list of the datasets matching the search query"
   ]
  },
  {
   "cell_type": "code",
   "execution_count": 44,
   "id": "527b61f2-2075-4c70-8d59-012d50bbb0ab",
   "metadata": {},
   "outputs": [],
   "source": [
    "for it in item_search.items():\n",
    "    print(it.id)"
   ]
  },
  {
   "cell_type": "markdown",
   "id": "6b3c0ac6-c657-4e29-8766-f098ea8d90c4",
   "metadata": {},
   "source": [
    "For any particular item we can extract the href to a specific asset. "
   ]
  },
  {
   "cell_type": "code",
   "execution_count": 38,
   "id": "fb9f87f6-3bfb-43d0-ad11-afb0f7fb2fc4",
   "metadata": {},
   "outputs": [
    {
     "ename": "TypeError",
     "evalue": "'ItemSearch' object is not subscriptable",
     "output_type": "error",
     "traceback": [
      "\u001b[0;31m---------------------------------------------------------------------------\u001b[0m",
      "\u001b[0;31mTypeError\u001b[0m                                 Traceback (most recent call last)",
      "Cell \u001b[0;32mIn[38], line 1\u001b[0m\n\u001b[0;32m----> 1\u001b[0m \u001b[43mitem_search\u001b[49m\u001b[43m[\u001b[49m\u001b[38;5;124;43m'\u001b[39;49m\u001b[38;5;124;43mESACCI-LST-L3C-LST-GOES-0.05deg_1MONTHLY-20180101114000-20201201140000-fv1.00\u001b[39;49m\u001b[38;5;124;43m'\u001b[39;49m\u001b[43m]\u001b[49m\n",
      "\u001b[0;31mTypeError\u001b[0m: 'ItemSearch' object is not subscriptable"
     ]
    }
   ],
   "source": [
    "item_search['ESACCI-LST-L3C-LST-GOES-0.05deg_1MONTHLY-20180101114000-20201201140000-fv1.00']"
   ]
  },
  {
   "cell_type": "code",
   "execution_count": null,
   "id": "6eb9ec7f-784c-4d61-aaed-d8451a9e0c96",
   "metadata": {},
   "outputs": [],
   "source": []
  }
 ],
 "metadata": {
  "kernelspec": {
   "display_name": "datapoint_k",
   "language": "python",
   "name": "datapoint_k"
  },
  "language_info": {
   "codemirror_mode": {
    "name": "ipython",
    "version": 3
   },
   "file_extension": ".py",
   "mimetype": "text/x-python",
   "name": "python",
   "nbconvert_exporter": "python",
   "pygments_lexer": "ipython3",
   "version": "3.12.2"
  }
 },
 "nbformat": 4,
 "nbformat_minor": 5
}
